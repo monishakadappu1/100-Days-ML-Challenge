{
 "cells": [
  {
   "cell_type": "markdown",
   "metadata": {},
   "source": [
    "# Day 6 Challenge - Matplotlib & Seaborn"
   ]
  },
  {
   "cell_type": "code",
   "execution_count": 1,
   "metadata": {},
   "outputs": [],
   "source": [
    "import pandas as pd\n",
    "import matplotlib.pyplot as plt\n",
    "import seaborn as sns\n",
    "\n",
    "data = pd.read_csv('tips.csv')"
   ]
  },
  {
   "cell_type": "markdown",
   "metadata": {},
   "source": [
    "### [Q] Give the statistics between how much tip is giving based on the total bill made in the hotel"
   ]
  },
  {
   "cell_type": "code",
   "execution_count": 4,
   "metadata": {},
   "outputs": [],
   "source": [
    "# your code here (choosing your graoh type is the grading point)\n"
   ]
  },
  {
   "cell_type": "markdown",
   "metadata": {},
   "source": [
    "### [Q] Give the statistics of tips based on gender"
   ]
  },
  {
   "cell_type": "code",
   "execution_count": 3,
   "metadata": {},
   "outputs": [],
   "source": [
    "# your code here (choosing your graoh type is the grading point)"
   ]
  },
  {
   "cell_type": "markdown",
   "metadata": {},
   "source": [
    "### [Q] Fill in the code which is left blank. The graph will show you graphical representation of linear, quadratic and cubic lines"
   ]
  },
  {
   "cell_type": "code",
   "execution_count": null,
   "metadata": {},
   "outputs": [],
   "source": [
    "x = np.linspace(0, 2, 100)\n",
    "\n",
    "# plot a linear graph here\n",
    "# plot a quadratic graph here\n",
    "# plot a cubic graph here\n",
    "\n",
    "plt.xlabel('x label')\n",
    "plt.ylabel('y label')\n",
    "\n",
    "plt.title(\"Simple Plot\")\n",
    "\n",
    "# give a descriptive legend here\n",
    "\n",
    "plt.show()"
   ]
  },
  {
   "cell_type": "markdown",
   "metadata": {},
   "source": [
    "### [Q] Plot the graph with different patterns"
   ]
  },
  {
   "cell_type": "code",
   "execution_count": null,
   "metadata": {},
   "outputs": [],
   "source": [
    "import numpy as np\n",
    "\n",
    "# generate an evenly sampled time at 200ms intervals starting for 0. and ending at 5.\n",
    "t = # your code here\n",
    "\n",
    "# red dashes, blue squares and green triangles\n",
    "plt.plot(t, t, 'code here', t, t**2, 'code here', t, t**3, 'code here')"
   ]
  },
  {
   "cell_type": "markdown",
   "metadata": {},
   "source": [
    "### [Q] Give a scatterplot between attack and defence of pokemon"
   ]
  },
  {
   "cell_type": "code",
   "execution_count": null,
   "metadata": {},
   "outputs": [],
   "source": [
    "# Scatter Plot \n",
    "data = pd.read_csv('../pokemon.csv') # import from proper local location after forking from github\n",
    "\n",
    "# code here\n",
    "\n",
    "plt.xlabel('Attack')\n",
    "plt.ylabel('Defence')\n",
    "plt.title('Attack Defense Scatter Plot')"
   ]
  },
  {
   "cell_type": "markdown",
   "metadata": {},
   "source": [
    "### [Q] Draw a barplot Poverty Rate between States with Descending order of Poverty Rates by using Seaborn library"
   ]
  },
  {
   "cell_type": "code",
   "execution_count": 13,
   "metadata": {},
   "outputs": [],
   "source": [
    "import pandas as pd\n",
    "# The data set file is in the same Github folder from where you got this file \n",
    "percentage_people_below_poverty_level = pd.read_csv('PercentagePeopleBelowPovertyLevel.csv', encoding=\"windows-1252\")\n",
    "\n",
    "percentage_people_below_poverty_level.head()\n",
    "\n",
    "\n",
    "# Code here to clean the data because some fields have \"-\" character. Clean it with floating value of zero\n",
    "\n",
    "# Code here to convert the data into floating type\n",
    "\n",
    "area_list = list(percentage_people_below_poverty_level['Geographic Area'].unique())\n",
    "area_poverty_ratio = []\n",
    "\n",
    "# run a for loop and populate the area_poverty_ratio by calculating the average poverty across each state\n",
    "# Eg If you take AL as state, there are 585 cities in AL and sum of all poverty rate / 585 will be your poverty rate of AL\n",
    "for i in area_list:\n",
    "    x = # code here\n",
    "    area_poverty_rate = #code here\n",
    "    area_poverty_ratio.append(area_poverty_rate)\n",
    "data = pd.DataFrame({'area_list': area_list,'area_poverty_ratio':area_poverty_ratio})\n",
    "\n",
    "# order the index values into descending values\n",
    "# code here\n",
    "\n",
    "# sort the data using the descending ordered index values\n",
    "# code here\n",
    "\n",
    "\n",
    "# visualization\n",
    "plt.figure(figsize=(15,10))\n",
    "# code here and show how creative you are\n",
    "plt.title('Poverty Rate Given States')"
   ]
  },
  {
   "cell_type": "code",
   "execution_count": null,
   "metadata": {},
   "outputs": [],
   "source": []
  }
 ],
 "metadata": {
  "kernelspec": {
   "display_name": "Python 3",
   "language": "python",
   "name": "python3"
  },
  "language_info": {
   "codemirror_mode": {
    "name": "ipython",
    "version": 3
   },
   "file_extension": ".py",
   "mimetype": "text/x-python",
   "name": "python",
   "nbconvert_exporter": "python",
   "pygments_lexer": "ipython3",
   "version": "3.7.3"
  }
 },
 "nbformat": 4,
 "nbformat_minor": 2
}
